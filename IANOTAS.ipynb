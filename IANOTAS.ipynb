import pandas as pd
import numpy as np
from sklearn.cluster import KMeans
from sklearn.preprocessing import MinMaxScaler
import matplotlib.pyplot as plt
import seaborn as sns
from sklearn.cluster import KMeans
from sklearn.datasets import make_blobs

dataframe = pd.read_excel('Analíse_relaçao_economiasEgastos.xlsx')

#print(dataframe)

#dataframe_normalizado_Aluguel =(dataframe.Aluguel-dataframe.Aluguel.min())/(dataframe.Aluguel.max()-dataframe.Aluguel.min())
#print(dataframe_normalizado_Aluguel)
dataframe_normalizadoGeral=pd.DataFrame()
for i in dataframe.columns :

    dataframe_normalizado = (dataframe[i]- dataframe[i].min())/(dataframe[i].max()-dataframe[i].min())
    dataframe_normalizado = pd.DataFrame(dataframe_normalizado)
    dataframe_normalizado.columns = [i]
    dataframe_normalizadoGeral = pd.concat([dataframe_normalizadoGeral,dataframe_normalizado],axis=1)
dataframe_normalizadoGeral.to_excel('dataframeGeral.xlsx')
print(dataframe_normalizadoGeral)
